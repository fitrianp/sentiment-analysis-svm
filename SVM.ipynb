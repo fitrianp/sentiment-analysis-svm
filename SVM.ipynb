{
  "nbformat": 4,
  "nbformat_minor": 0,
  "metadata": {
    "colab": {
      "name": "SVM.ipynb",
      "provenance": [],
      "collapsed_sections": []
    },
    "kernelspec": {
      "display_name": "Python 3",
      "language": "python",
      "name": "python3"
    },
    "language_info": {
      "codemirror_mode": {
        "name": "ipython",
        "version": 3
      },
      "file_extension": ".py",
      "mimetype": "text/x-python",
      "name": "python",
      "nbconvert_exporter": "python",
      "pygments_lexer": "ipython3",
      "version": "3.8.3"
    }
  },
  "cells": [
    {
      "cell_type": "code",
      "metadata": {
        "colab": {
          "base_uri": "https://localhost:8080/"
        },
        "id": "NphqimyWpcxb",
        "outputId": "8535b16e-448d-40fe-9458-42c6369d2ebd"
      },
      "source": [
        "from google.colab import drive\n",
        "drive.mount('/content/drive')"
      ],
      "execution_count": 1,
      "outputs": [
        {
          "output_type": "stream",
          "name": "stdout",
          "text": [
            "Drive already mounted at /content/drive; to attempt to forcibly remount, call drive.mount(\"/content/drive\", force_remount=True).\n"
          ]
        }
      ]
    },
    {
      "cell_type": "code",
      "metadata": {
        "colab": {
          "base_uri": "https://localhost:8080/"
        },
        "id": "C3TgDHytxC28",
        "outputId": "204da149-e19e-411b-da61-227c8ed57b80"
      },
      "source": [
        "!pip install Sastrawi"
      ],
      "execution_count": 2,
      "outputs": [
        {
          "output_type": "stream",
          "name": "stdout",
          "text": [
            "Requirement already satisfied: Sastrawi in /usr/local/lib/python3.7/dist-packages (1.0.1)\n"
          ]
        }
      ]
    },
    {
      "cell_type": "code",
      "metadata": {
        "id": "jL0r6z6ebyJM"
      },
      "source": [
        "import pandas as pd\n",
        "import numpy as np\n",
        "import nltk\n",
        "import nltk.corpus\n",
        "import Sastrawi\n",
        "from Sastrawi.Stemmer.StemmerFactory import StemmerFactory\n",
        "from Sastrawi.StopWordRemover.StopWordRemoverFactory import StopWordRemoverFactory\n",
        "from nltk.corpus import stopwords\n",
        "from nltk.stem import WordNetLemmatizer\n",
        "from nltk.corpus import wordnet as wn\n",
        "from sklearn import model_selection, naive_bayes, svm\n",
        "from sklearn import preprocessing\n",
        "from sklearn.feature_extraction.text import CountVectorizer, TfidfVectorizer\n",
        "from sklearn.model_selection import train_test_split, KFold\n",
        "from sklearn.linear_model import LogisticRegression\n",
        "from sklearn.metrics import accuracy_score\n",
        "from sklearn.utils import resample\n",
        "import seaborn as sns"
      ],
      "execution_count": 3,
      "outputs": []
    },
    {
      "cell_type": "code",
      "metadata": {
        "colab": {
          "base_uri": "https://localhost:8080/",
          "height": 206
        },
        "id": "w0Bw6BeUpsHp",
        "outputId": "3d726db8-1721-4300-e5ed-259053d9ec6d"
      },
      "source": [
        "df = pd.read_csv('/content/drive/MyDrive/microcredential/data_clean.csv',sep=\";\")\n",
        "df.head()"
      ],
      "execution_count": 4,
      "outputs": [
        {
          "output_type": "execute_result",
          "data": {
            "text/html": [
              "<div>\n",
              "<style scoped>\n",
              "    .dataframe tbody tr th:only-of-type {\n",
              "        vertical-align: middle;\n",
              "    }\n",
              "\n",
              "    .dataframe tbody tr th {\n",
              "        vertical-align: top;\n",
              "    }\n",
              "\n",
              "    .dataframe thead th {\n",
              "        text-align: right;\n",
              "    }\n",
              "</style>\n",
              "<table border=\"1\" class=\"dataframe\">\n",
              "  <thead>\n",
              "    <tr style=\"text-align: right;\">\n",
              "      <th></th>\n",
              "      <th>title</th>\n",
              "      <th>comment</th>\n",
              "      <th>ratings</th>\n",
              "      <th>comment_clean</th>\n",
              "    </tr>\n",
              "  </thead>\n",
              "  <tbody>\n",
              "    <tr>\n",
              "      <th>0</th>\n",
              "      <td>Masker KN95 Warna WeMask Tali Senada Putih Abu...</td>\n",
              "      <td>fitur mantap harga oke kualitas oke bagus bang...</td>\n",
              "      <td>5</td>\n",
              "      <td>fitur mantap harga oke kualitas oke bagus bang...</td>\n",
              "    </tr>\n",
              "    <tr>\n",
              "      <th>1</th>\n",
              "      <td>Masker KN95 Warna WeMask Tali Senada Putih Abu...</td>\n",
              "      <td>bagus tapi pesen warna apa yg dikirim warna ap...</td>\n",
              "      <td>3</td>\n",
              "      <td>bagus pesan warna kirim warna pesan mouson pro...</td>\n",
              "    </tr>\n",
              "    <tr>\n",
              "      <th>2</th>\n",
              "      <td>Masker KN95 Warna WeMask Tali Senada Putih Abu...</td>\n",
              "      <td>fitur masker harga standar kualitas kurang bag...</td>\n",
              "      <td>2</td>\n",
              "      <td>fitur masker harga standar kualitas bagus kant...</td>\n",
              "    </tr>\n",
              "    <tr>\n",
              "      <th>3</th>\n",
              "      <td>Masker KN95 Warna WeMask Tali Senada Putih Abu...</td>\n",
              "      <td>barangnya tidak dikirim dan aku lupa rekam vid...</td>\n",
              "      <td>2</td>\n",
              "      <td>barang kirim lupa rekam video unboxing</td>\n",
              "    </tr>\n",
              "    <tr>\n",
              "      <th>4</th>\n",
              "      <td>Masker KN95 Warna WeMask Tali Senada Putih Abu...</td>\n",
              "      <td>fitur buruk harga buruk kualitas buruk beli   ...</td>\n",
              "      <td>1</td>\n",
              "      <td>fitur buruk harga buruk kualitas buruk beli ki...</td>\n",
              "    </tr>\n",
              "  </tbody>\n",
              "</table>\n",
              "</div>"
            ],
            "text/plain": [
              "                                               title  ...                                      comment_clean\n",
              "0  Masker KN95 Warna WeMask Tali Senada Putih Abu...  ...  fitur mantap harga oke kualitas oke bagus bang...\n",
              "1  Masker KN95 Warna WeMask Tali Senada Putih Abu...  ...  bagus pesan warna kirim warna pesan mouson pro...\n",
              "2  Masker KN95 Warna WeMask Tali Senada Putih Abu...  ...  fitur masker harga standar kualitas bagus kant...\n",
              "3  Masker KN95 Warna WeMask Tali Senada Putih Abu...  ...             barang kirim lupa rekam video unboxing\n",
              "4  Masker KN95 Warna WeMask Tali Senada Putih Abu...  ...  fitur buruk harga buruk kualitas buruk beli ki...\n",
              "\n",
              "[5 rows x 4 columns]"
            ]
          },
          "metadata": {},
          "execution_count": 4
        }
      ]
    },
    {
      "cell_type": "markdown",
      "metadata": {
        "id": "kkIJhubcxJnS"
      },
      "source": [
        "# Labeling\n",
        "Melabelkan data komentar atau ulasan"
      ]
    },
    {
      "cell_type": "code",
      "metadata": {
        "colab": {
          "base_uri": "https://localhost:8080/",
          "height": 424
        },
        "id": "067c1638",
        "outputId": "c25a025f-d48d-473b-f7b6-a42b97422a0a"
      },
      "source": [
        "label = []\n",
        "for index, row in df.iterrows():\n",
        "    if row[\"ratings\"] == 5 or row[\"ratings\"] == 4 or row[\"ratings\"] == 3:\n",
        "        label.append(1)\n",
        "    else:\n",
        "        label.append(0)\n",
        "\n",
        "df[\"label\"] = label\n",
        "\n",
        "df"
      ],
      "execution_count": 5,
      "outputs": [
        {
          "output_type": "execute_result",
          "data": {
            "text/html": [
              "<div>\n",
              "<style scoped>\n",
              "    .dataframe tbody tr th:only-of-type {\n",
              "        vertical-align: middle;\n",
              "    }\n",
              "\n",
              "    .dataframe tbody tr th {\n",
              "        vertical-align: top;\n",
              "    }\n",
              "\n",
              "    .dataframe thead th {\n",
              "        text-align: right;\n",
              "    }\n",
              "</style>\n",
              "<table border=\"1\" class=\"dataframe\">\n",
              "  <thead>\n",
              "    <tr style=\"text-align: right;\">\n",
              "      <th></th>\n",
              "      <th>title</th>\n",
              "      <th>comment</th>\n",
              "      <th>ratings</th>\n",
              "      <th>comment_clean</th>\n",
              "      <th>label</th>\n",
              "    </tr>\n",
              "  </thead>\n",
              "  <tbody>\n",
              "    <tr>\n",
              "      <th>0</th>\n",
              "      <td>Masker KN95 Warna WeMask Tali Senada Putih Abu...</td>\n",
              "      <td>fitur mantap harga oke kualitas oke bagus bang...</td>\n",
              "      <td>5</td>\n",
              "      <td>fitur mantap harga oke kualitas oke bagus bang...</td>\n",
              "      <td>1</td>\n",
              "    </tr>\n",
              "    <tr>\n",
              "      <th>1</th>\n",
              "      <td>Masker KN95 Warna WeMask Tali Senada Putih Abu...</td>\n",
              "      <td>bagus tapi pesen warna apa yg dikirim warna ap...</td>\n",
              "      <td>3</td>\n",
              "      <td>bagus pesan warna kirim warna pesan mouson pro...</td>\n",
              "      <td>1</td>\n",
              "    </tr>\n",
              "    <tr>\n",
              "      <th>2</th>\n",
              "      <td>Masker KN95 Warna WeMask Tali Senada Putih Abu...</td>\n",
              "      <td>fitur masker harga standar kualitas kurang bag...</td>\n",
              "      <td>2</td>\n",
              "      <td>fitur masker harga standar kualitas bagus kant...</td>\n",
              "      <td>0</td>\n",
              "    </tr>\n",
              "    <tr>\n",
              "      <th>3</th>\n",
              "      <td>Masker KN95 Warna WeMask Tali Senada Putih Abu...</td>\n",
              "      <td>barangnya tidak dikirim dan aku lupa rekam vid...</td>\n",
              "      <td>2</td>\n",
              "      <td>barang kirim lupa rekam video unboxing</td>\n",
              "      <td>0</td>\n",
              "    </tr>\n",
              "    <tr>\n",
              "      <th>4</th>\n",
              "      <td>Masker KN95 Warna WeMask Tali Senada Putih Abu...</td>\n",
              "      <td>fitur buruk harga buruk kualitas buruk beli   ...</td>\n",
              "      <td>1</td>\n",
              "      <td>fitur buruk harga buruk kualitas buruk beli ki...</td>\n",
              "      <td>0</td>\n",
              "    </tr>\n",
              "    <tr>\n",
              "      <th>...</th>\n",
              "      <td>...</td>\n",
              "      <td>...</td>\n",
              "      <td>...</td>\n",
              "      <td>...</td>\n",
              "      <td>...</td>\n",
              "    </tr>\n",
              "    <tr>\n",
              "      <th>820</th>\n",
              "      <td>MASKER KN95 / MASKER KN 95 / DISPOSABLE MASK 5...</td>\n",
              "      <td>bahan lebih tipis dari yg sebelumnua kualitas ...</td>\n",
              "      <td>3</td>\n",
              "      <td>bahan tipis sebelumnua kualitas rendah harga j...</td>\n",
              "      <td>1</td>\n",
              "    </tr>\n",
              "    <tr>\n",
              "      <th>821</th>\n",
              "      <td>MASKER KN95 / MASKER KN 95 / DISPOSABLE MASK 5...</td>\n",
              "      <td>bahan kurang bagus baru dipakai brudul gitu jd...</td>\n",
              "      <td>3</td>\n",
              "      <td>bahan bagus pakai brudul gate kualitas harga l...</td>\n",
              "      <td>1</td>\n",
              "    </tr>\n",
              "    <tr>\n",
              "      <th>822</th>\n",
              "      <td>MASKER KN95 / MASKER KN 95 / DISPOSABLE MASK 5...</td>\n",
              "      <td>bahan biasa aja kualitas biasa ini pesenan ke ...</td>\n",
              "      <td>2</td>\n",
              "      <td>bahan kualitas pesan beda eh parah sih bungkus...</td>\n",
              "      <td>0</td>\n",
              "    </tr>\n",
              "    <tr>\n",
              "      <th>823</th>\n",
              "      <td>MASKER KN95 / MASKER KN 95 / DISPOSABLE MASK 5...</td>\n",
              "      <td>kualitas kaya bekas di bungkus kantong keresek...</td>\n",
              "      <td>1</td>\n",
              "      <td>kualitas kayak bekas bungkus kantong keresek p...</td>\n",
              "      <td>0</td>\n",
              "    </tr>\n",
              "    <tr>\n",
              "      <th>824</th>\n",
              "      <td>MASKER KN95 / MASKER KN 95 / DISPOSABLE MASK 5...</td>\n",
              "      <td>bahan mengecewakan kualitas mengecewakan harga...</td>\n",
              "      <td>1</td>\n",
              "      <td>bahan kecewa kualitas kecewa harga turun mgcwa...</td>\n",
              "      <td>0</td>\n",
              "    </tr>\n",
              "  </tbody>\n",
              "</table>\n",
              "<p>825 rows × 5 columns</p>\n",
              "</div>"
            ],
            "text/plain": [
              "                                                 title  ... label\n",
              "0    Masker KN95 Warna WeMask Tali Senada Putih Abu...  ...     1\n",
              "1    Masker KN95 Warna WeMask Tali Senada Putih Abu...  ...     1\n",
              "2    Masker KN95 Warna WeMask Tali Senada Putih Abu...  ...     0\n",
              "3    Masker KN95 Warna WeMask Tali Senada Putih Abu...  ...     0\n",
              "4    Masker KN95 Warna WeMask Tali Senada Putih Abu...  ...     0\n",
              "..                                                 ...  ...   ...\n",
              "820  MASKER KN95 / MASKER KN 95 / DISPOSABLE MASK 5...  ...     1\n",
              "821  MASKER KN95 / MASKER KN 95 / DISPOSABLE MASK 5...  ...     1\n",
              "822  MASKER KN95 / MASKER KN 95 / DISPOSABLE MASK 5...  ...     0\n",
              "823  MASKER KN95 / MASKER KN 95 / DISPOSABLE MASK 5...  ...     0\n",
              "824  MASKER KN95 / MASKER KN 95 / DISPOSABLE MASK 5...  ...     0\n",
              "\n",
              "[825 rows x 5 columns]"
            ]
          },
          "metadata": {},
          "execution_count": 5
        }
      ]
    },
    {
      "cell_type": "code",
      "metadata": {
        "colab": {
          "base_uri": "https://localhost:8080/",
          "height": 424
        },
        "id": "7MDTm-G6roVJ",
        "outputId": "9c579f5a-8faf-4f2f-8687-34e1957146c8"
      },
      "source": [
        "df = df.rename(columns={'comment_clean': 'review_text','label': 'category'})\n",
        "df"
      ],
      "execution_count": 6,
      "outputs": [
        {
          "output_type": "execute_result",
          "data": {
            "text/html": [
              "<div>\n",
              "<style scoped>\n",
              "    .dataframe tbody tr th:only-of-type {\n",
              "        vertical-align: middle;\n",
              "    }\n",
              "\n",
              "    .dataframe tbody tr th {\n",
              "        vertical-align: top;\n",
              "    }\n",
              "\n",
              "    .dataframe thead th {\n",
              "        text-align: right;\n",
              "    }\n",
              "</style>\n",
              "<table border=\"1\" class=\"dataframe\">\n",
              "  <thead>\n",
              "    <tr style=\"text-align: right;\">\n",
              "      <th></th>\n",
              "      <th>title</th>\n",
              "      <th>comment</th>\n",
              "      <th>ratings</th>\n",
              "      <th>review_text</th>\n",
              "      <th>category</th>\n",
              "    </tr>\n",
              "  </thead>\n",
              "  <tbody>\n",
              "    <tr>\n",
              "      <th>0</th>\n",
              "      <td>Masker KN95 Warna WeMask Tali Senada Putih Abu...</td>\n",
              "      <td>fitur mantap harga oke kualitas oke bagus bang...</td>\n",
              "      <td>5</td>\n",
              "      <td>fitur mantap harga oke kualitas oke bagus bang...</td>\n",
              "      <td>1</td>\n",
              "    </tr>\n",
              "    <tr>\n",
              "      <th>1</th>\n",
              "      <td>Masker KN95 Warna WeMask Tali Senada Putih Abu...</td>\n",
              "      <td>bagus tapi pesen warna apa yg dikirim warna ap...</td>\n",
              "      <td>3</td>\n",
              "      <td>bagus pesan warna kirim warna pesan mouson pro...</td>\n",
              "      <td>1</td>\n",
              "    </tr>\n",
              "    <tr>\n",
              "      <th>2</th>\n",
              "      <td>Masker KN95 Warna WeMask Tali Senada Putih Abu...</td>\n",
              "      <td>fitur masker harga standar kualitas kurang bag...</td>\n",
              "      <td>2</td>\n",
              "      <td>fitur masker harga standar kualitas bagus kant...</td>\n",
              "      <td>0</td>\n",
              "    </tr>\n",
              "    <tr>\n",
              "      <th>3</th>\n",
              "      <td>Masker KN95 Warna WeMask Tali Senada Putih Abu...</td>\n",
              "      <td>barangnya tidak dikirim dan aku lupa rekam vid...</td>\n",
              "      <td>2</td>\n",
              "      <td>barang kirim lupa rekam video unboxing</td>\n",
              "      <td>0</td>\n",
              "    </tr>\n",
              "    <tr>\n",
              "      <th>4</th>\n",
              "      <td>Masker KN95 Warna WeMask Tali Senada Putih Abu...</td>\n",
              "      <td>fitur buruk harga buruk kualitas buruk beli   ...</td>\n",
              "      <td>1</td>\n",
              "      <td>fitur buruk harga buruk kualitas buruk beli ki...</td>\n",
              "      <td>0</td>\n",
              "    </tr>\n",
              "    <tr>\n",
              "      <th>...</th>\n",
              "      <td>...</td>\n",
              "      <td>...</td>\n",
              "      <td>...</td>\n",
              "      <td>...</td>\n",
              "      <td>...</td>\n",
              "    </tr>\n",
              "    <tr>\n",
              "      <th>820</th>\n",
              "      <td>MASKER KN95 / MASKER KN 95 / DISPOSABLE MASK 5...</td>\n",
              "      <td>bahan lebih tipis dari yg sebelumnua kualitas ...</td>\n",
              "      <td>3</td>\n",
              "      <td>bahan tipis sebelumnua kualitas rendah harga j...</td>\n",
              "      <td>1</td>\n",
              "    </tr>\n",
              "    <tr>\n",
              "      <th>821</th>\n",
              "      <td>MASKER KN95 / MASKER KN 95 / DISPOSABLE MASK 5...</td>\n",
              "      <td>bahan kurang bagus baru dipakai brudul gitu jd...</td>\n",
              "      <td>3</td>\n",
              "      <td>bahan bagus pakai brudul gate kualitas harga l...</td>\n",
              "      <td>1</td>\n",
              "    </tr>\n",
              "    <tr>\n",
              "      <th>822</th>\n",
              "      <td>MASKER KN95 / MASKER KN 95 / DISPOSABLE MASK 5...</td>\n",
              "      <td>bahan biasa aja kualitas biasa ini pesenan ke ...</td>\n",
              "      <td>2</td>\n",
              "      <td>bahan kualitas pesan beda eh parah sih bungkus...</td>\n",
              "      <td>0</td>\n",
              "    </tr>\n",
              "    <tr>\n",
              "      <th>823</th>\n",
              "      <td>MASKER KN95 / MASKER KN 95 / DISPOSABLE MASK 5...</td>\n",
              "      <td>kualitas kaya bekas di bungkus kantong keresek...</td>\n",
              "      <td>1</td>\n",
              "      <td>kualitas kayak bekas bungkus kantong keresek p...</td>\n",
              "      <td>0</td>\n",
              "    </tr>\n",
              "    <tr>\n",
              "      <th>824</th>\n",
              "      <td>MASKER KN95 / MASKER KN 95 / DISPOSABLE MASK 5...</td>\n",
              "      <td>bahan mengecewakan kualitas mengecewakan harga...</td>\n",
              "      <td>1</td>\n",
              "      <td>bahan kecewa kualitas kecewa harga turun mgcwa...</td>\n",
              "      <td>0</td>\n",
              "    </tr>\n",
              "  </tbody>\n",
              "</table>\n",
              "<p>825 rows × 5 columns</p>\n",
              "</div>"
            ],
            "text/plain": [
              "                                                 title  ... category\n",
              "0    Masker KN95 Warna WeMask Tali Senada Putih Abu...  ...        1\n",
              "1    Masker KN95 Warna WeMask Tali Senada Putih Abu...  ...        1\n",
              "2    Masker KN95 Warna WeMask Tali Senada Putih Abu...  ...        0\n",
              "3    Masker KN95 Warna WeMask Tali Senada Putih Abu...  ...        0\n",
              "4    Masker KN95 Warna WeMask Tali Senada Putih Abu...  ...        0\n",
              "..                                                 ...  ...      ...\n",
              "820  MASKER KN95 / MASKER KN 95 / DISPOSABLE MASK 5...  ...        1\n",
              "821  MASKER KN95 / MASKER KN 95 / DISPOSABLE MASK 5...  ...        1\n",
              "822  MASKER KN95 / MASKER KN 95 / DISPOSABLE MASK 5...  ...        0\n",
              "823  MASKER KN95 / MASKER KN 95 / DISPOSABLE MASK 5...  ...        0\n",
              "824  MASKER KN95 / MASKER KN 95 / DISPOSABLE MASK 5...  ...        0\n",
              "\n",
              "[825 rows x 5 columns]"
            ]
          },
          "metadata": {},
          "execution_count": 6
        }
      ]
    },
    {
      "cell_type": "markdown",
      "metadata": {
        "id": "zQNStSy0xVp1"
      },
      "source": [
        "# Split Data Train dan Testing dengan TF-IDF\n",
        "Sebelum kita modelkan data yang sudah di labelkan, terlebih dahulu membagi data yang ingin di latih (train) dan di uji (test) disini kami menggunakan test_size sebesar 0.1 dan data training sebesar 0.9\n",
        "\n",
        "TF-IDF adalah suatu metode algoritma yang berguna untuk menghitung bobot setiap kata yang umum digunakan. Metode ini juga terkenal efisien, mudah dan memiliki hasil yang akurat. Metode ini akan menghitung nilai Term Frequency (TF) dan Inverse Document Frequency (IDF) pada setiap token (kata) di setiap dokumen dalam korpus. Secara sederhana, metode TF-IDF digunakan untuk mengetahui berapa sering suatu kata muncul di dalam dokumen."
      ]
    },
    {
      "cell_type": "code",
      "metadata": {
        "id": "cb3b3dfa"
      },
      "source": [
        "from sklearn.model_selection import train_test_split\n",
        "\n",
        "X_train, X_test, y_train, y_test = train_test_split(df['review_text'], df['category'], \n",
        "                                                    test_size=0.1, stratify=df['category'], random_state=30)"
      ],
      "execution_count": 7,
      "outputs": []
    },
    {
      "cell_type": "code",
      "metadata": {
        "id": "3e081ce8"
      },
      "source": [
        "vectorizer = TfidfVectorizer(decode_error='replace', encoding='utf-8')"
      ],
      "execution_count": 8,
      "outputs": []
    },
    {
      "cell_type": "code",
      "metadata": {
        "colab": {
          "base_uri": "https://localhost:8080/"
        },
        "id": "18525d93",
        "outputId": "c0e8989e-9c3f-4fda-87ed-f22c6f838225"
      },
      "source": [
        "X_train = vectorizer.fit_transform(X_train.values.astype('U'))\n",
        "X_test = vectorizer.transform(X_test.values.astype('U'))\n",
        "print(X_train.shape)\n",
        "print(X_test.shape)"
      ],
      "execution_count": 9,
      "outputs": [
        {
          "output_type": "stream",
          "name": "stdout",
          "text": [
            "(742, 1718)\n",
            "(83, 1718)\n"
          ]
        }
      ]
    },
    {
      "cell_type": "code",
      "metadata": {
        "id": "8bfede93"
      },
      "source": [
        "X_train = X_train.toarray()"
      ],
      "execution_count": 10,
      "outputs": []
    },
    {
      "cell_type": "code",
      "metadata": {
        "id": "b995da9d"
      },
      "source": [
        "X_test = X_test.toarray()"
      ],
      "execution_count": 11,
      "outputs": []
    },
    {
      "cell_type": "markdown",
      "metadata": {
        "id": "JM1lcmzqxc-z"
      },
      "source": [
        "# Model"
      ]
    },
    {
      "cell_type": "code",
      "metadata": {
        "colab": {
          "base_uri": "https://localhost:8080/"
        },
        "id": "XHVdHXN4dZsF",
        "outputId": "2d1aca06-757e-4d8f-cb7a-fcd2bdf2a8e2"
      },
      "source": [
        "# Classifier - Algorithm - SVM\n",
        "import numpy\n",
        "import pandas\n",
        "import pickle\n",
        "from keras.models import Sequential, model_from_json\n",
        "from keras.layers import Dense\n",
        "from keras.utils import np_utils\n",
        "from sklearn import datasets\n",
        "from sklearn import preprocessing\n",
        "from sklearn.model_selection import train_test_split\n",
        "from sklearn.preprocessing import LabelEncoder\n",
        "SVM = svm.SVC(C=1.0, kernel='linear', degree=3, gamma='auto')\n",
        "SVM.fit(X_train,y_train)\n",
        "\n",
        "pickle.dump(vectorizer,open('vectorizer.pkl','wb'))\n",
        "pickle.dump(SVM,open('SVM.pkl','wb'))\n",
        "model = pickle.load(open('SVM.pkl','rb'))\n",
        "\n",
        "predictions_SVM = model.predict(X_test)\n",
        "print(\"SVM Accuracy Score -> \",accuracy_score(predictions_SVM, y_test)*100)\n",
        "print(predictions_SVM)"
      ],
      "execution_count": 13,
      "outputs": [
        {
          "output_type": "stream",
          "name": "stdout",
          "text": [
            "SVM Accuracy Score ->  80.72289156626506\n",
            "[0 1 0 1 0 1 0 0 1 1 1 1 1 0 1 1 1 1 1 1 0 0 0 1 1 1 0 1 0 1 0 0 1 1 1 1 1\n",
            " 0 1 1 1 0 1 1 1 0 1 1 0 0 0 1 0 0 0 1 1 1 1 1 1 1 1 0 0 0 1 1 1 0 0 1 1 0\n",
            " 1 1 1 1 1 1 1 0 1]\n"
          ]
        }
      ]
    },
    {
      "cell_type": "markdown",
      "metadata": {
        "id": "g9rwIBGUxgTi"
      },
      "source": [
        "# Metric\n",
        "Evaluasi model yang dilakukan untuk melihat performance dari model tersebut, disini kami melihat akurasi dari model tersebut seberapa besar dia berhasil memprediksi, serta menggunakan confusion matrix untuk melihat berapa yang benar mengklasifikasikan datanya"
      ]
    },
    {
      "cell_type": "code",
      "metadata": {
        "colab": {
          "base_uri": "https://localhost:8080/"
        },
        "id": "RZbfuRCw3HO_",
        "outputId": "1c1d42a0-fa64-48c1-f0ea-e121444198bc"
      },
      "source": [
        "from sklearn.metrics import classification_report\n",
        "\n",
        "report = classification_report(y_test, predictions_SVM)\n",
        "print(report)"
      ],
      "execution_count": null,
      "outputs": [
        {
          "output_type": "stream",
          "name": "stdout",
          "text": [
            "              precision    recall  f1-score   support\n",
            "\n",
            "           0       0.79      0.70      0.74        33\n",
            "           1       0.81      0.88      0.85        50\n",
            "\n",
            "    accuracy                           0.81        83\n",
            "   macro avg       0.80      0.79      0.79        83\n",
            "weighted avg       0.81      0.81      0.80        83\n",
            "\n"
          ]
        }
      ]
    },
    {
      "cell_type": "code",
      "metadata": {
        "id": "RVMCjMoo8AzQ",
        "colab": {
          "base_uri": "https://localhost:8080/"
        },
        "outputId": "83317387-90c8-40ef-9b50-a51485cdc12c"
      },
      "source": [
        "from sklearn.metrics import confusion_matrix\n",
        "cf = confusion_matrix(y_test, predictions_SVM)\n",
        "cf"
      ],
      "execution_count": null,
      "outputs": [
        {
          "output_type": "execute_result",
          "data": {
            "text/plain": [
              "array([[23, 10],\n",
              "       [ 6, 44]])"
            ]
          },
          "metadata": {},
          "execution_count": 16
        }
      ]
    },
    {
      "cell_type": "code",
      "metadata": {
        "colab": {
          "base_uri": "https://localhost:8080/",
          "height": 282
        },
        "id": "5dFNgsGvxjja",
        "outputId": "4c3e70dc-c049-4ae1-b6a2-b1a2603e880b"
      },
      "source": [
        "sns.heatmap(cf,annot=True)"
      ],
      "execution_count": null,
      "outputs": [
        {
          "output_type": "execute_result",
          "data": {
            "text/plain": [
              "<matplotlib.axes._subplots.AxesSubplot at 0x7feac941c350>"
            ]
          },
          "metadata": {},
          "execution_count": 17
        },
        {
          "output_type": "display_data",
          "data": {
            "image/png": "[encoded data removed]",
            "text/plain": [
              "<Figure size 432x288 with 2 Axes>"
            ]
          },
          "metadata": {
            "needs_background": "light"
          }
        }
      ]
    },
    {
      "cell_type": "markdown",
      "metadata": {
        "id": "tl5EfCc9x1yD"
      },
      "source": [
        "Terlihat dari hasil metric di atas menunjukkan model SVM mampu mengklasifikasikan dengan akurasi sebesar 81% dan ditunjukkan dengan confusion matrix yang didapatkan dengan prediksi label 0 (Negatif) yang cukup baik dan 1 (Positif) yang cukup baik"
      ]
    }
  ]
}